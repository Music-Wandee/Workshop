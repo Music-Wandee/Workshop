{
 "cells": [
  {
   "cell_type": "markdown",
   "metadata": {},
   "source": [
    "## Simple web crawling"
   ]
  },
  {
   "cell_type": "markdown",
   "metadata": {},
   "source": [
    "### selenium and beautiful soup installation\n",
    "pip install -U selenium<br>\n",
    "pip install beautifulsoup4\n",
    "\n",
    "### Tutorial of BeautifulSoup\n",
    "https://www.crummy.com/software/BeautifulSoup/bs4/doc/\n",
    "\n",
    "### Tutorial of Regular Expression\n",
    "https://www.w3schools.com/python/python_regex.asp"
   ]
  },
  {
   "cell_type": "code",
   "execution_count": 14,
   "metadata": {},
   "outputs": [],
   "source": [
    "from bs4 import BeautifulSoup\n",
    "from selenium import webdriver\n",
    "import re"
   ]
  },
  {
   "cell_type": "code",
   "execution_count": 15,
   "metadata": {},
   "outputs": [],
   "source": [
    "options = webdriver.ChromeOptions()\n",
    "#options.add_argument('headless')"
   ]
  },
  {
   "cell_type": "code",
   "execution_count": 16,
   "metadata": {},
   "outputs": [],
   "source": [
    "# Define url\n",
    "url = 'https://pantip.com/topic/39452033'"
   ]
  },
  {
   "cell_type": "markdown",
   "metadata": {},
   "source": [
    "Download google chrome driver<br>\n",
    "https://chromedriver.chromium.org/downloads"
   ]
  },
  {
   "cell_type": "code",
   "execution_count": 17,
   "metadata": {},
   "outputs": [],
   "source": [
    "# initialize the driver\n",
    "driver = webdriver.Chrome(executable_path = \"C:\\webdriver\\chromedriver.exe\", options = options)\n",
    "driver.get(url)"
   ]
  },
  {
   "cell_type": "markdown",
   "metadata": {},
   "source": [
    "![](img/pantip_page.png)"
   ]
  },
  {
   "cell_type": "code",
   "execution_count": 18,
   "metadata": {},
   "outputs": [],
   "source": [
    "# Get html\n",
    "content = driver.page_source\n",
    "soup = BeautifulSoup(content,'lxml')"
   ]
  },
  {
   "cell_type": "code",
   "execution_count": 19,
   "metadata": {},
   "outputs": [],
   "source": [
    "# Searching by CSS class\n",
    "main_area = soup.find('div', class_ = 'main-post-inner sticky-navi-comment')"
   ]
  },
  {
   "cell_type": "markdown",
   "metadata": {},
   "source": [
    "![](img/content.png)"
   ]
  },
  {
   "cell_type": "code",
   "execution_count": 20,
   "metadata": {},
   "outputs": [
    {
     "data": {
      "text/plain": [
       "'ผู้ชายคิดยังไงกับผู้หญิงที่มีลูกแล้ว ?'"
      ]
     },
     "execution_count": 20,
     "metadata": {},
     "output_type": "execute_result"
    }
   ],
   "source": [
    "# Get title\n",
    "title = main_area.find('h2' ,class_ = 'display-post-title').get_text()\n",
    "title"
   ]
  },
  {
   "cell_type": "code",
   "execution_count": 21,
   "metadata": {},
   "outputs": [
    {
     "name": "stdout",
     "output_type": "stream",
     "text": [
      "ตามหัวข้อเลยค่ะ\n",
      "เราอายุ32 มีลูกสาว เราอยู่กัน2แม่ลูก มีแม่บ้านคน\n",
      "เราไม่มีเพื่อน ไม่มีญาติพี่น้องเลย \n",
      "เราโตกรุงเทพ พอมีน้องก็ย้ายมาอยู่ ตจว.ก็ไม่รู้จักใครไม่มีเพื่อน\n",
      "ไปไหนก็ไปกับลูก ไม่เคยห่างกันเลยตัวติดกัน24ชม.เลย\n",
      "เวลาไปข้างนอกก็มีคนมองๆเค้าคงไม่กล้ามาจีบเห็นมีลูกแล้ว\n",
      "คงคิดว่ามีครอบครัวแล้ว\n",
      "เราหน้าตาดี หุ่นดี 😊\n",
      "ตอนนี้ลูกเข้าโรงเรียนแล้ว ไปส่งลูกก็กลับบ้านรอเวลาไปรับลูก \n",
      "จะชอบไปนั่งร้านกาแฟคนเดียวทุกวัน ก็ไม่รู้จะไปไหน\n",
      "ที่ชอบไปร้านกาแฟ ไม่ได้ไปหาผู้ชาย เป็นคนชอบร้านกาแฟ ติดชาค่ะ😊\n",
      "ก็เหงาๆอยากมีใครสักคน แต่ก็ไม่กล้าคบใครกลัวเค้ารับเราไม่ได้ กลัวเค้าไม่รักลูกเรา\n",
      "กลัวไปหมด \t\t\t\t\t\t\t\t\t\t\t\t\t\t\t\t\t\t\t\t\t\t\t\t\t\t\t\t\t\t\t\t\t   แก้ไขข้อความเมื่อ 30 พฤศจิกายน 2562 เวลา 22:43 น.\n"
     ]
    }
   ],
   "source": [
    "# Get main post\n",
    "main_post = main_area.find('div' ,class_ = 'display-post-story').get_text()\n",
    "print(main_post.strip())"
   ]
  },
  {
   "cell_type": "code",
   "execution_count": 22,
   "metadata": {},
   "outputs": [
    {
     "name": "stdout",
     "output_type": "stream",
     "text": [
      "ตามหัวข้อเลยค่ะ\n",
      "เราอายุ32 มีลูกสาว เราอยู่กัน2แม่ลูก มีแม่บ้านคน\n",
      "เราไม่มีเพื่อน ไม่มีญาติพี่น้องเลย \n",
      "เราโตกรุงเทพ พอมีน้องก็ย้ายมาอยู่ ตจว.ก็ไม่รู้จักใครไม่มีเพื่อน\n",
      "ไปไหนก็ไปกับลูก ไม่เคยห่างกันเลยตัวติดกัน24ชม.เลย\n",
      "เวลาไปข้างนอกก็มีคนมองๆเค้าคงไม่กล้ามาจีบเห็นมีลูกแล้ว\n",
      "คงคิดว่ามีครอบครัวแล้ว\n",
      "เราหน้าตาดี หุ่นดี 😊\n",
      "ตอนนี้ลูกเข้าโรงเรียนแล้ว ไปส่งลูกก็กลับบ้านรอเวลาไปรับลูก \n",
      "จะชอบไปนั่งร้านกาแฟคนเดียวทุกวัน ก็ไม่รู้จะไปไหน\n",
      "ที่ชอบไปร้านกาแฟ ไม่ได้ไปหาผู้ชาย เป็นคนชอบร้านกาแฟ ติดชาค่ะ😊\n",
      "ก็เหงาๆอยากมีใครสักคน แต่ก็ไม่กล้าคบใครกลัวเค้ารับเราไม่ได้ กลัวเค้าไม่รักลูกเรา\n",
      "กลัวไปหมด\n"
     ]
    }
   ],
   "source": [
    "# Remove edit history\n",
    "main_post = main_area.find('div', class_ = 'display-post-story')\n",
    "edit_history = main_post.find('div', class_ = 'edit-history')\n",
    "\n",
    "if edit_history is not None:\n",
    "    edit_history.decompose()\n",
    "    \n",
    "main_post = main_post.get_text()\n",
    "print(main_post.strip())"
   ]
  },
  {
   "cell_type": "code",
   "execution_count": 23,
   "metadata": {},
   "outputs": [
    {
     "name": "stdout",
     "output_type": "stream",
     "text": [
      "สมาชิกหมายเลข 3618722\n"
     ]
    }
   ],
   "source": [
    "# Get post owner\n"
   ]
  },
  {
   "cell_type": "code",
   "execution_count": 10,
   "metadata": {},
   "outputs": [
    {
     "name": "stdout",
     "output_type": "stream",
     "text": [
      "30 พฤศจิกายน 2562 เวลา 22:43 น.\n"
     ]
    }
   ],
   "source": [
    "# Get time\n"
   ]
  },
  {
   "cell_type": "markdown",
   "metadata": {},
   "source": [
    "![](img/sub_content.png)"
   ]
  },
  {
   "cell_type": "code",
   "execution_count": 23,
   "metadata": {},
   "outputs": [
    {
     "data": {
      "text/plain": [
       "[{'post': 'ถ้าหน้าตาดีหุ่นดีหนุ่มๆคงไม่รังเกียจหรอกครับ',\n",
       "  'post_number': 'ความคิดเห็นที่ 1',\n",
       "  'post_owner': 'สมาชิกหมายเลข 5626334',\n",
       "  'time': '30 พฤศจิกายน 2562 เวลา 21:59 น.'},\n",
       " {'post': 'ผมไม่เคยคิดมากเรื่องsmครับ ถ้ารักกันก็ไม่มีปัญหา แต่เรื่องเด็กมีคิดบ้าง สมมุติว่าเด็กยังไปมาหาสู่กับพ่อที่แท้จริงอยู่ ก็จะไม่ไปก้าวก่ายชีวิตของเด็กมากครับ คอยซัพพอร์ตอ้อมๆแทน เพราะผมไม่สามารถไปแทนที่พ่อที่แท้จริงได้ครับ อักกรณีถ้าเด็กไม่มีการติดต่อกับพ่อที่แท้จริงอีกแล้ว ก็ยินดีที่จะดูแลครับ',\n",
       "  'post_number': 'ความคิดเห็นที่ 2',\n",
       "  'post_owner': 'Gen นายขายหมูอีกแล้วใช่มั้ย?',\n",
       "  'time': '30 พฤศจิกายน 2562 เวลา 22:11 น.'},\n",
       " {'post': 'คุณต้องเลือกผู้ชายเป้าหมายที่ดูมีอายุหน่อย ... สัก 40-50 ดูภูมิฐานมีความมั่นคง \\nคนอายุประมาณนั้นจะไม่ค่อยเลือกมาก มีลูกติดมาสักหน่อยก็พอเลี้ยงได้เพราะฐานะค่อนข้างมั่นคง ไม่ต้องเสี่ยงเผชิญชะตาเหมือนหนุ่มๆ\\n\\nคุณลองเปลี่ยนจากร้านกาแฟมาเป็นวัดดู หรืออย่างน้อยๆก็เป็นร้านกาแฟที่อยู่ใกล้ๆวัดก็ได้ \\nลองพยายามเข้าร่วมพวกสมาคมหรืองานสังคมดู \\nคุณน่าจะเจอคนที่ \"ใช่\" และมองว่าคุณคือคนที่ \"ใช่\" ได้ไม่ยาก',\n",
       "  'post_number': 'ความคิดเห็นที่ 3',\n",
       "  'post_owner': 'เสือตะหลิว',\n",
       "  'time': '30 พฤศจิกายน 2562 เวลา 22:16 น.'}]"
      ]
     },
     "execution_count": 23,
     "metadata": {},
     "output_type": "execute_result"
    }
   ],
   "source": [
    "# Get sub posts\n",
    "all_comment = list()\n",
    "sub_post = soup.find_all(\"div\", id = re.compile(\"^comment-[0-9]+\"))\n",
    "\n",
    "for div in sub_post:\n",
    "    post = div.find(class_ = 'display-post-story').get_text().strip()\n",
    "    if post.find('ความคิดเห็นนี้ถูกลบเนื่องจาก') == -1:\n",
    "        reply ={\n",
    "                'post' : post,\n",
    "                'post_number' : div.find(class_ = 'display-post-number').get_text().strip(),\n",
    "                'post_owner' : div.find(class_ = 'display-post-name').get_text().strip(),\n",
    "                'time' : div.find(class_ = 'timeago').get_text().strip()\n",
    "                }\n",
    "        all_comment.append(reply)\n",
    "            \n",
    "all_comment[:3]"
   ]
  },
  {
   "cell_type": "markdown",
   "metadata": {},
   "source": [
    "### Problem..."
   ]
  },
  {
   "cell_type": "markdown",
   "metadata": {},
   "source": [
    "![](img/button.png)"
   ]
  },
  {
   "cell_type": "code",
   "execution_count": 24,
   "metadata": {},
   "outputs": [],
   "source": [
    "driver.close()"
   ]
  }
 ],
 "metadata": {
  "kernelspec": {
   "display_name": "Python 3",
   "language": "python",
   "name": "python3"
  },
  "language_info": {
   "codemirror_mode": {
    "name": "ipython",
    "version": 3
   },
   "file_extension": ".py",
   "mimetype": "text/x-python",
   "name": "python",
   "nbconvert_exporter": "python",
   "pygments_lexer": "ipython3",
   "version": "3.6.5"
  }
 },
 "nbformat": 4,
 "nbformat_minor": 2
}
