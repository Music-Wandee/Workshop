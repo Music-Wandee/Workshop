{
 "cells": [
  {
   "cell_type": "markdown",
   "metadata": {},
   "source": [
    "## An example of crawling one page of Pantip.com\n",
    "Reference:\n",
    "\n",
    "Scrollintoview https://docs.w3cub.com/dom/element/scrollintoview/\n",
    "\n",
    "WebDriverWait https://www.seleniumhq.org/docs/04_webdriver_advanced.jsp"
   ]
  },
  {
   "cell_type": "code",
   "execution_count": 1,
   "metadata": {},
   "outputs": [],
   "source": [
    "from selenium import webdriver\n",
    "# from selenium.webdriver import ActionChains\n",
    "from selenium.webdriver.support.ui import WebDriverWait\n",
    "from selenium.webdriver.support import expected_conditions as EC\n",
    "from selenium.common.exceptions import TimeoutException\n",
    "from selenium.webdriver.common.by import By\n",
    "from bs4 import BeautifulSoup\n",
    "import re"
   ]
  },
  {
   "cell_type": "markdown",
   "metadata": {},
   "source": [
    "### Assign some arguments"
   ]
  },
  {
   "cell_type": "code",
   "execution_count": 2,
   "metadata": {},
   "outputs": [],
   "source": [
    "url = 'https://pantip.com/topic/38478051'\n",
    "\n",
    "options = webdriver.ChromeOptions()\n",
    "#options.add_argument('headless')\n",
    "\n",
    "# initialize the driver\n",
    "driver = webdriver.Chrome(executable_path=\"C:\\webdriver\\chromedriver.exe\", options=options)\n",
    "driver.get(url)"
   ]
  },
  {
   "cell_type": "markdown",
   "metadata": {},
   "source": [
    "### Click button to accept cookies\n",
    "Reference https://selenium.dev/selenium/docs/api/py/webdriver_support/selenium.webdriver.support.expected_conditions.html\n",
    "\n",
    "![](img\\cookies.png)\n"
   ]
  },
  {
   "cell_type": "code",
   "execution_count": 3,
   "metadata": {},
   "outputs": [],
   "source": [
    "try:\n",
    "    cookie = WebDriverWait(driver, 2).until(EC.element_to_be_clickable((By.CSS_SELECTOR, \"div.pt-snackbar__actions.pt-action-policy\")))\n",
    "    cookie.click()\n",
    "except TimeoutException as ex:\n",
    "    print(\"There is not the pop up\")"
   ]
  },
  {
   "cell_type": "markdown",
   "metadata": {},
   "source": [
    "### Click to load page\n",
    "Reference https://selenium-python.readthedocs.io/api.html\n",
    "\n",
    "![](img\\load_page.png)"
   ]
  },
  {
   "cell_type": "code",
   "execution_count": 4,
   "metadata": {},
   "outputs": [],
   "source": [
    "loadPage = True\n",
    "while loadPage:\n",
    "    try:        \n",
    "        load_comment_buttons = WebDriverWait(driver, 2).until(EC.element_to_be_clickable((By.CSS_SELECTOR, \"a.bar-paging-ed span.focus-txt\")))\n",
    "        driver.execute_script(\"return arguments[0].scrollIntoView({block: \\\"center\\\", inline: \\\"center\\\"});\", load_comment_buttons)\n",
    "        load_comment_buttons.click()\n",
    "    except TimeoutException as ex:\n",
    "        loadPage = False"
   ]
  },
  {
   "cell_type": "markdown",
   "metadata": {},
   "source": [
    "### Click reply buttons\n",
    "\n",
    "![](img\\reply_button.png)"
   ]
  },
  {
   "cell_type": "code",
   "execution_count": 5,
   "metadata": {},
   "outputs": [],
   "source": [
    "try:\n",
    "    comment_buttons = WebDriverWait(driver, 2).until(EC.visibility_of_all_elements_located((By.CSS_SELECTOR, \"a.reply.see-more span.focus-txt\")))    \n",
    "    for button in comment_buttons:\n",
    "        driver.execute_script(\"return arguments[0].scrollIntoView({block: \\\"center\\\", inline: \\\"center\\\"});\", button)\n",
    "        button.click()\n",
    "except TimeoutException as ex:\n",
    "    print(\"No reply\")"
   ]
  },
  {
   "cell_type": "markdown",
   "metadata": {},
   "source": [
    "###  Loop click sub reply buttons\n",
    "![](img\\sub_reply_button.png)\n"
   ]
  },
  {
   "cell_type": "code",
   "execution_count": 6,
   "metadata": {},
   "outputs": [],
   "source": [
    "loadButton = True   \n",
    "while loadButton:\n",
    "    try:\n",
    "        load_comment_buttons = WebDriverWait(driver, 2).until(EC.visibility_of_all_elements_located((By.CSS_SELECTOR, \"a.load-reply-next span.focus-txt\"))) \n",
    "        for button in load_comment_buttons:\n",
    "            driver.execute_script(\"return arguments[0].scrollIntoView({block: \\\"center\\\", inline: \\\"center\\\"});\", button)\n",
    "            button.click()\n",
    "    except TimeoutException as ex:\n",
    "        loadButton = False"
   ]
  },
  {
   "cell_type": "markdown",
   "metadata": {},
   "source": [
    "### Get full HTML"
   ]
  },
  {
   "cell_type": "code",
   "execution_count": 7,
   "metadata": {},
   "outputs": [],
   "source": [
    "content = driver.page_source\n",
    "soup = BeautifulSoup(content,'lxml')\n",
    "driver.close()"
   ]
  },
  {
   "cell_type": "markdown",
   "metadata": {},
   "source": [
    "### Get the owner's post"
   ]
  },
  {
   "cell_type": "code",
   "execution_count": 8,
   "metadata": {
    "scrolled": true
   },
   "outputs": [
    {
     "data": {
      "text/plain": [
       "{'post': 'เพื่อนๆ คนไหนเคยทำ ช่วยแชร์ประสบการณ์หน่อยนะครับ',\n",
       " 'post_number': 'ความคิดเห็นที่ 0',\n",
       " 'owner': 'ทนายขีดเขียน',\n",
       " 'time': '20 มกราคม 2562 เวลา 23:24 น.'}"
      ]
     },
     "execution_count": 8,
     "metadata": {},
     "output_type": "execute_result"
    }
   ],
   "source": [
    " # Extract main post informaiton\n",
    "pantip = dict()\n",
    "all_comment = list()\n",
    "\n",
    "main_area = soup.find('div', class_ = 'main-post-inner sticky-navi-comment')\n",
    "\n",
    "# Get rid of edit-history\n",
    "edit_history = main_area.find('div', class_ = 'edit-history')\n",
    "if edit_history is not None:\n",
    "    edit_history.decompose()\n",
    "\n",
    "pantip['title'] = main_area.find(class_ = 'display-post-title').get_text().strip()\n",
    "pantip['url'] =  url\n",
    "main = {\n",
    "        'post' : main_area.find(class_ = 'display-post-story').get_text().strip(),\n",
    "        'post_number' : 'ความคิดเห็นที่ 0',\n",
    "        'owner' : main_area.find(class_ = 'display-post-name owner').get_text().strip(),\n",
    "        'time' : main_area.find(class_ = 'timeago').get_text().strip()\n",
    "        }\n",
    "all_comment.append(main)\n",
    "all_comment[0]"
   ]
  },
  {
   "cell_type": "markdown",
   "metadata": {},
   "source": [
    "### Loop get all posts"
   ]
  },
  {
   "cell_type": "code",
   "execution_count": 12,
   "metadata": {},
   "outputs": [],
   "source": [
    "# Get all replies\n",
    "for div in soup.find_all(\"div\", id = re.compile(\"^(comment|reply)-[0-9]+\")):\n",
    "\n",
    "    # Get rid of edit-history\n",
    "    edit_history = div.find('div', class_ = 'edit-history')\n",
    "    if edit_history is not None:\n",
    "        edit_history.decompose()\n",
    "\n",
    "    # Extract information\n",
    "    post = div.find(class_ = 'display-post-story').get_text().strip()\n",
    "    if post.find('ความคิดเห็นนี้ถูกลบเนื่องจาก') == -1:\n",
    "        reply ={\n",
    "                'post' : post,\n",
    "                'post_number' : div.find(class_ = 'display-post-number').get_text().strip(),\n",
    "                'post_owner' : div.find(class_ = 'display-post-name').get_text().strip(),\n",
    "                'time' : div.find(class_ = 'timeago').get_text().strip()\n",
    "                }\n",
    "        all_comment.append(reply)\n",
    "pantip['sub_post'] = all_comment"
   ]
  },
  {
   "cell_type": "markdown",
   "metadata": {},
   "source": [
    "### Data structure"
   ]
  },
  {
   "cell_type": "code",
   "execution_count": 14,
   "metadata": {},
   "outputs": [
    {
     "data": {
      "text/plain": [
       "dict_keys(['title', 'url', 'sub_post'])"
      ]
     },
     "execution_count": 14,
     "metadata": {},
     "output_type": "execute_result"
    }
   ],
   "source": [
    "pantip.keys()"
   ]
  },
  {
   "cell_type": "code",
   "execution_count": 15,
   "metadata": {},
   "outputs": [
    {
     "data": {
      "text/plain": [
       "'อายุ 35 เงินเดือน 100,000 บาท อาศัยอยู่ใน กทม. เพื่อนๆ คิดว่า เพียงพอที่จะให้แฟนลาออกจากงานมาดูลูกอย่างเดียวไหมครับ'"
      ]
     },
     "execution_count": 15,
     "metadata": {},
     "output_type": "execute_result"
    }
   ],
   "source": [
    "pantip['title']"
   ]
  },
  {
   "cell_type": "code",
   "execution_count": 16,
   "metadata": {},
   "outputs": [
    {
     "data": {
      "text/plain": [
       "'https://pantip.com/topic/38478051'"
      ]
     },
     "execution_count": 16,
     "metadata": {},
     "output_type": "execute_result"
    }
   ],
   "source": [
    "pantip['url']"
   ]
  },
  {
   "cell_type": "code",
   "execution_count": 18,
   "metadata": {},
   "outputs": [
    {
     "data": {
      "text/plain": [
       "[{'post': 'เพื่อนๆ คนไหนเคยทำ ช่วยแชร์ประสบการณ์หน่อยนะครับ',\n",
       "  'post_number': 'ความคิดเห็นที่ 0',\n",
       "  'owner': 'ทนายขีดเขียน',\n",
       "  'time': '20 มกราคม 2562 เวลา 23:24 น.'},\n",
       " {'post': 'ผญ.บางคนชอบทำงาน อยู่บ้านไม่มีสังคมจะเบื่อ ถามแฟนดีที่สุดครับ',\n",
       "  'post_number': 'ความคิดเห็นที่ 1',\n",
       "  'post_owner': 'สมาชิกหมายเลข 4054065',\n",
       "  'time': '20 มกราคม 2562 เวลา 23:28 น.'},\n",
       " {'post': 'เงินเดือนขนาดนี้ ลาออกเลี้ยงลูกสบาย',\n",
       "  'post_number': 'ความคิดเห็นที่ 2',\n",
       "  'post_owner': 'สมาชิกหมายเลข 4158576',\n",
       "  'time': '20 มกราคม 2562 เวลา 23:29 น.'}]"
      ]
     },
     "execution_count": 18,
     "metadata": {},
     "output_type": "execute_result"
    }
   ],
   "source": [
    "pantip['sub_post'][:3]"
   ]
  }
 ],
 "metadata": {
  "kernelspec": {
   "display_name": "Python 3",
   "language": "python",
   "name": "python3"
  },
  "language_info": {
   "codemirror_mode": {
    "name": "ipython",
    "version": 3
   },
   "file_extension": ".py",
   "mimetype": "text/x-python",
   "name": "python",
   "nbconvert_exporter": "python",
   "pygments_lexer": "ipython3",
   "version": "3.6.5"
  }
 },
 "nbformat": 4,
 "nbformat_minor": 2
}
